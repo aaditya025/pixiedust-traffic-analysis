{
 "cells": [
  {
   "cell_type": "markdown",
   "metadata": {},
   "source": [
    "<center> <h1>IBM Data Science Experience with PixieDust </h1> <br/> </center>\n",
    "\n",
    "<center> <h3>Analyze data and build a dashboard with Spark, notebooks, and PixieDust</h3> <br/> </center>\n",
    "\n",
    "Interactive notebooks are powerful tools for fast and flexible experimentation and data analysis. Notebooks can contain live code, static text, equations and visualizations. In this lab, we will walk through how to use PixieDust with Spark and Notebooks to analyze open data around police incidents in San Francisco and then build charts and maps to discover insights. We will then show how to build a dashboard that drills down into specific areas and how to combine multiple data sources like crime or speeding zones to extract even more insights..  \n",
    "\n",
    "<center>\n",
    "![pixiedust](https://developer.ibm.com/clouddataservices/wp-content/uploads/sites/85/2017/03/pixiedust200.png)\n",
    "<br/>\n",
    "</center>\n",
    "\n",
    "<center>\n",
    "Learn more about PixieDust [Here](https://www.ibm.com/analytics/us/en/watson-data-platform/pixiedust/)\n",
    "</center>\n",
    "<center>\n",
    "You may access the complete tutorial with step by step instructions here: [https://www.slideshare.net/DTAIEB/pixie-dust-overview](https://www.slideshare.net/DTAIEB/pixie-dust-overview)  \n",
    "  \n",
    "</center>\n",
    "<br/>\n"
   ]
  },
  {
   "cell_type": "code",
   "execution_count": null,
   "metadata": {},
   "outputs": [],
   "source": [
    "# Licensed under the Apache License, Version 2.0 (the \"License\"); you may\n",
    "# not use this file except in compliance with the License. You may obtain\n",
    "# a copy of the License at\n",
    "#\n",
    "#      http://www.apache.org/licenses/LICENSE-2.0\n",
    "#\n",
    "# Unless required by applicable law or agreed to in writing, software\n",
    "# distributed under the License is distributed on an \"AS IS\" BASIS, WITHOUT\n",
    "# WARRANTIES OR CONDITIONS OF ANY KIND, either express or implied. See the\n",
    "# License for the specific language governing permissions and limitations\n",
    "# under the License."
   ]
  },
  {
   "cell_type": "code",
   "execution_count": null,
   "metadata": {},
   "outputs": [],
   "source": [
    "# We install the prerequisites using the `!pip install` syntax here.\n",
    "# In some cases, running pip install from a notebook may require a one-time kernel restart. Check the output for messages.\n",
    "# If instructed to restart the kernel, from the notebook toolbar menu: • Go to > Kernel > Restart • Click Restart in the confirmation dialog\n",
    "# Note: The status of the kernel briefly flashes near the upper right corner, alerting when it is Not Connected, Restarting, Ready, etc. \n",
    "!pip install --upgrade pixiedust"
   ]
  },
  {
   "cell_type": "code",
   "execution_count": null,
   "metadata": {},
   "outputs": [],
   "source": [
    "!pip install --upgrade bokeh==0.12.6"
   ]
  },
  {
   "cell_type": "code",
   "execution_count": null,
   "metadata": {},
   "outputs": [],
   "source": [
    "# Before, you can use the PixieDust library it must be imported into the notebook.\n",
    "# This notebook requires version 1.0.6\n",
    "import pixiedust"
   ]
  },
  {
   "cell_type": "markdown",
   "metadata": {},
   "source": [
    "## Import San Francisco Police incidents data into the Notebook\n",
    "Source: [San Francisco Open Data](https://datasf.org/opendata)\n",
    "> Take a moment to explore all the data available at this site"
   ]
  },
  {
   "cell_type": "code",
   "execution_count": null,
   "metadata": {},
   "outputs": [],
   "source": [
    "# With PixieDust, you can easily load CSV data from a URL into a PySpark DataFrame in the notebook.\n",
    "\n",
    "incidents = pixiedust.sampleData(\"https://data.sfgov.org/api/views/wg3w-h783/rows.csv?accessType=DOWNLOAD\")"
   ]
  },
  {
   "cell_type": "markdown",
   "metadata": {},
   "source": [
    "# Initial exploration\n",
    "\n",
    "After successfully importing PixieDust and loading the sample data, we can use the ***display*** API to quickly browse through and visualize the data to see if we can obtain any immediate insights.  \n",
    "\n",
    "For example:\n",
    "\n",
    "### Explore the schema and browse the data\n",
    "\n",
    ">  Select _DataFrame Table_ icon in the display widget\n",
    "\n",
    "\n",
    "### In which police district do the most police incidents occur?\n",
    "\n",
    "> Choose the _Chart_ icon in the display widget and select `(Pie Chart - Options: Keys = Police District, Values = Incident Number, Aggregation = Count)`\n",
    "\n",
    "We can also dig one level deeper by clustering by how each incident was resolved:\n",
    "\n",
    "> Choose the _Chart_ icon in the display widget and select `(Bar Chart - Options: Keys = Police District, Values = Incident Number, Aggregation = Count - Cluster By: Resolution)`\n",
    "\n",
    "### On what day of the week do the most police incidents occur?\n",
    "\n",
    "> Choose the _Chart_ icon in the display widget and select `(Bar Chart - Options: Keys = Incident Day Of Week, Values = Incident Number, Aggregation = Count)`\n",
    "\n",
    "Since the height of the bars are so similar, try `Pie Chart - Options: Keys = Incident Day Of Week, Values = Incident Number, Aggregation = Count)`\n",
    "\n",
    "Take a moment to explore the possibility of the Display API by watching this [video](https://www.youtube.com/watch?v=FoOHFlkCaXI) "
   ]
  },
  {
   "cell_type": "code",
   "execution_count": null,
   "metadata": {
    "pixiedust": {
     "displayParams": {
      "aggregation": "COUNT",
      "clusterby": "Resolution",
      "handlerId": "pieChart",
      "keyFields": "Incident Day of Week",
      "mpld3": "false",
      "rendererId": "bokeh",
      "rowCount": "1000",
      "valueFields": "Incident Number"
     }
    },
    "scrolled": true
   },
   "outputs": [],
   "source": [
    "display(incidents)"
   ]
  },
  {
   "cell_type": "markdown",
   "metadata": {},
   "source": [
    "# More data Exploration and Hypothesis\n",
    "Immediately, we can identify a couple of areas of interest in our data without having to write a single line of code:\n",
    "\n",
    "1) Most incidents happen in the Central  police district, and\n",
    "\n",
    "2) The number of incidents is approximately the same for each day, ranging from 13-15% of the total per day.\n",
    "\n",
    "We can also see that our data needs some cleansing if we want to make analysis easier.  Specifically:\n",
    "\n",
    "- The `Incident Time` field is a string, so we'll need to add an `Hour` column if we want to see the time of day when most incidents occur, and\n",
    "- The `Incident Day Of Week` values are rendered in alphabetical order by default instead of chronological order, so we should rename them to make it easier to see how the number of incidents changes over the course of the week, and\n",
    "- We should condense the outcome types of each police accident if we want to see the most common resolutions of police incidents in each police district, since the clustering above was unclear.\n",
    "\n",
    "Let's cleanse the data and re-investigate before moving on:\n",
    "\n",
    "> Note: the next cell is using PySpark APIs to manipulate the data. You can find more information on these APIs [here](http://spark.apache.org/docs/1.6.0/api/python/pyspark.sql.html)"
   ]
  },
  {
   "cell_type": "code",
   "execution_count": null,
   "metadata": {},
   "outputs": [],
   "source": [
    "from pyspark.sql.functions import udf\n",
    "from pyspark.sql.types import *\n",
    "\n",
    "# Get the hour value of a time string\n",
    "# e.g. getHour(\"05:30\") = 5\n",
    "def getHour(s):\n",
    "    return int(s.split(':')[0])\n",
    "\n",
    "hr_udf = udf(getHour,IntegerType())\n",
    "\n",
    "# Rename weekdays to enable mini time-series analysis\n",
    "incidents = incidents.na.replace\\\n",
    "    (['Monday','Tuesday','Wednesday','Thursday','Friday','Saturday','Sunday'],\\\n",
    "    ['1-Mon','2-Tues','3-Wed','4-Thur','5-Fri','6-Sat','7-Sun'],\\\n",
    "    'Incident Day Of Week')\n",
    "\n",
    "# Add Hour column and refine outcomes from police incidents\n",
    "incidents = incidents.withColumn(\"Hour\",hr_udf(incidents['Incident Time']))\\\n",
    "    .withColumn(\"Res\",\\\n",
    "    udf(lambda x: 'Arrest' if 'ARREST' in x else 'No Resolution' if x == 'NONE' else 'Other',StringType())\\\n",
    "    (incidents['Resolution']))"
   ]
  },
  {
   "cell_type": "markdown",
   "metadata": {},
   "source": [
    "\n",
    "## We are now ready for more data exploration\n",
    "### Hypothesis: Do incidents in one police district result in more arrests than other police districts?\n",
    "\n",
    "```\n",
    "(Bar Chart - Options: Keys = Police District, Values = Incident Number, Aggregation = Count, Cluster By: Res)\n",
    "```\n",
    "I find the `horizontal` orientation better for showing the Police Districts.\n",
    "\n",
    "### Question: How does the number of incidents change over the course of the week?\n",
    "\n",
    "```\n",
    "(Line Chart - Options: Keys = Incident Day Of Week, Values = Incident Number, Aggregation = Count)\n",
    "```"
   ]
  },
  {
   "cell_type": "code",
   "execution_count": null,
   "metadata": {
    "pixiedust": {
     "displayParams": {
      "aggregation": "COUNT",
      "chartsize": "90",
      "charttype": "grouped",
      "clusterby": "Res",
      "handlerId": "barChart",
      "keyFields": "Police District",
      "orientation": "horizontal",
      "rendererId": "bokeh",
      "rowCount": "500",
      "valueFields": "Incident Number"
     }
    }
   },
   "outputs": [],
   "source": [
    "display(incidents)"
   ]
  },
  {
   "cell_type": "markdown",
   "metadata": {},
   "source": [
    "## What have we learned\n",
    "A few lines of code makes it a lot easier to see that:\n",
    "\n",
    "1) Incidents in the Central, Mission, and Southern police districts are much more likely to result in arrest than all other districts, and\n",
    "\n",
    "2) The number of incidents peaks Wednesday, during the middle of the week, Then reaches a maximum Friday.\n",
    "\n",
    "## Now let's focus on the Mission police district using some friendly SQL notation:"
   ]
  },
  {
   "cell_type": "code",
   "execution_count": null,
   "metadata": {},
   "outputs": [],
   "source": [
    "incidents.registerTempTable(\"incidents\")\n",
    "#mission = sqlContext.sql(\"SELECT * FROM incidents\")\n",
    "mission = sqlContext.sql(\"SELECT * FROM incidents WHERE `Police District`='Mission'\")"
   ]
  },
  {
   "cell_type": "markdown",
   "metadata": {},
   "source": [
    "### Question: Where in Mission do most incidents happen?\n",
    "\n",
    "```\n",
    "(Map - Options: Keys = [Longitude, Latitude], Values = Incident Number, Aggregation = Count,\n",
    "Renderer: mapbox, kind: chloropleth-cluster)\n",
    "```\n",
    "\n",
    "### Question: What time of day do most incidents occur?\n",
    "\n",
    "```\n",
    "(Line Chart - Options: Keys = Hour, Values = Incident Number, Aggregation = Count)\n",
    "```"
   ]
  },
  {
   "cell_type": "markdown",
   "metadata": {},
   "source": [
    "\n",
    "## NOTE: You will need a mapbox token to render the map. Get one at [mapbox](https://www.mapbox.com/)\n",
    "### Click `Options` below and put the token in the `Mapbox Access Token` field"
   ]
  },
  {
   "cell_type": "code",
   "execution_count": null,
   "metadata": {
    "pixiedust": {
     "displayParams": {
      "aggregation": "COUNT",
      "basemap": "light-v9",
      "handlerId": "mapView",
      "keyFields": "Longitude,Latitude",
      "kind": "choropleth-cluster",
      "mapboxtoken": "",
      "rendererId": "mapbox",
      "rowCount": "600",
      "timeseries": "false",
      "valueFields": "Incident Number"
     }
    }
   },
   "outputs": [],
   "source": [
    "display(mission)"
   ]
  },
  {
   "cell_type": "markdown",
   "metadata": {},
   "source": [
    "## What have we learned:\n",
    "Most of the results from looking at the incident times are unsurprising:\n",
    "\n",
    "- Number of incidents drop sharply very early morning (people probably sleeping),\n",
    "- Steady increase in number of incidents until noon,\n",
    "- Fairly high numbers from 3:00 PM until 7:00 PM,\n",
    "- Surprisingly, incidents decline after 7:00PM.\n",
    "\n",
    "The interesting thing here is the fact that the peaks are at noon and from 5:00PM until 7:00 PM, as one might expect the later evening times to be more problematic.\n",
    "\n",
    "# Further questions\n",
    "\n",
    "In analyzing the geographical data, we can see a couple of clusters where incidents occur more frequently in The Mission - the North Central area looks particularly crowded.  Some useful questions to ask at this point are:\n",
    "\n",
    "### Do certain streets effect on the number of incidents?\n",
    "\n",
    "### Are there more incidents in areas at the borders of police districts?\n",
    "\n",
    "\n",
    "We can test these hypotheses in two ways:\n",
    "\n",
    "1) Download datasets for crime data in San Francisco and simply use the `display` API to visualize crime zones and areas with police calming devices separately.\n",
    "\n",
    "2) Build a **Pixie App**, which encapsulates everything we have discussed thus far into an interactive way to explore multiple views of the data.\n",
    "\n",
    "Only basic HTML and JavaScript are needed to write a Pixie App, so you don't have to learn any new languages or frameworks.  In particular, a Pixie App will allow us to overlay mapping layers, and therefore give us a clearer view into the problem we are investigating."
   ]
  },
  {
   "cell_type": "markdown",
   "metadata": {},
   "source": [
    "# Building the PixieApp Dashboard\n",
    "\n",
    "### What you'll need:\n",
    "- Mapbox token: A Mapbox token is rquired for the notebook. To get your own visit [Mapbox](https://www.mapbox.com/)\n",
    "- Mapbox layers Documentation: [circle](https://www.mapbox.com/mapbox-gl-js/style-spec/#layers-circle), [fill](https://www.mapbox.com/mapbox-gl-js/style-spec/#layers-fill), [symbols](https://www.mapbox.com/mapbox-gl-js/style-spec/#layers-symbol)\n",
    "- Mapbox Maki Icons: [https://www.mapbox.com/maki-icons](https://www.mapbox.com/maki-icons)\n",
    "- Browse the data on [San Francisco Open Data](https://datasf.org/opendata) to get the GeoJSON url\n",
    "- Some understanding of [Jinja2 template](http://jinja.pocoo.org/docs/dev/templates)\n",
    "- A Quick read of [PixieApp documentation](https://ibm-watson-data-lab.github.io/pixiedust/pixieapps.html)\n",
    "\n",
    "### FAQ about the code below:\n",
    "- How do I get the pixiedust options in `self.mapJSONOptions`?\n",
    "> - Call `display()` on a new cell  \n",
    "> - Graphically select the options for your chart  \n",
    "> - Select \"View\"/\"Cell Toolbar\"/\"Edit Metadata\" menu  \n",
    "> - Click on the “Edit Metadata” button and copy the pixiedust metadata  \n",
    "- What's the `self.setLayers` call for?\n",
    "> This is a method from the MapboxBase class used to specify the custom layer definitions array.  \n",
    "> The fields are:  \n",
    ">  - name: Layer name  \n",
    ">  - url: geojson url to download the data from\n",
    ">  - type: (optional) style type e.g Symbol. If not defined, then default value will be infered from geojson geometry\n",
    ">  - paint: (optional) paint style, see appropriate documentation e.g. [circle](https://www.mapbox.com/mapbox-gl-js/style-spec/#layers-circle)  \n",
    ">  - layout: (optional) layout style, see appropriate documentation e.g. [fill](https://www.mapbox.com/mapbox-gl-js/style-spec/#layers-fill)\n",
    "- How do I find new layer data to add?\n",
    "> Just go to [San Francisco Open Data](https://datasf.org/opendata), browse the data and click on the export button. You should see a geojson link among others (warning: not all datasets have a geojson link, if you don't find it, then move on to another one)\n",
    "- What does the `mainScreen` method do?\n",
    "> This is a PixieApp View associated with the default route. See [PixieApp documentation](https://ibm-watson-data-lab.github.io/pixiedust/pixieapps.html) for more information.\n",
    "- What's the {{...}} notation in the mainScreen markup for?\n",
    "> This is a Jinja2 template notation to call server side Python code. See [Jinja2 template](http://jinja.pocoo.org/docs/dev/templates) for more info"
   ]
  },
  {
   "cell_type": "markdown",
   "metadata": {},
   "source": [
    "### Place your [Mapbox Token](https://www.mapbox.com/) in the `mapboxtoken` field under `setup()`->'self.mapJSONOptions` below"
   ]
  },
  {
   "cell_type": "code",
   "execution_count": null,
   "metadata": {
    "pixiedust": {
     "displayParams": {
      "targetDivId": "dialog0a8ccdefroot"
     }
    },
    "scrolled": false
   },
   "outputs": [],
   "source": [
    "from pixiedust.display.app import *\n",
    "from pixiedust.apps.mapboxBase import MapboxBase\n",
    "\n",
    "@PixieApp\n",
    "class SFDashboard(MapboxBase):\n",
    "    def setup(self):\n",
    "        self.mapJSONOptions = {\n",
    "      \"rendererId\": \"mapbox\",\n",
    "      \"aggregation\": \"COUNT\",\n",
    "      \"rowCount\": \"600\",\n",
    "      \"handlerId\": \"mapView\",\n",
    "      \"mapboxtoken\": \"*****\",\n",
    "      \"kind\": \"choropleth-cluster\",\n",
    "      \"keyFields\": \"Longitude,Latitude\",\n",
    "      \"valueFields\": \"Incident Number\",\n",
    "      \"timeseries\": \"false\",\n",
    "      \"basemap\": \"light-v9\"\n",
    "    }\n",
    "       \n",
    "        self.setLayers([\n",
    "        {\n",
    "            \"name\": \"Police Districts\",\n",
    "            \"url\": \"https://data.sfgov.org/api/geospatial/wkhw-cjsf?method=export&format=GeoJSON\"\n",
    "        }\n",
    "        ])    \n",
    "    def formatOptions(self,options):\n",
    "        return ';'.join([\"{}={}\".format(key,value) for (key, value) in iteritems(options)])\n",
    "    \n",
    "    @route()\n",
    "    def mainScreen(self):\n",
    "        return \"\"\"\n",
    "<div class=\"well\">\n",
    "    <center><span style=\"font-size:x-large\">Analyzing San Francisco Public Safety data with PixieDust</span></center>\n",
    "    <center><span style=\"font-size:large\"><a href=\"https://datasf.org/opendata\" target=\"new\">https://datasf.org/opendata</a></span></center>\n",
    "</div>\n",
    "<div class=\"row\">\n",
    "    <div class=\"form-group col-sm-2\" style=\"padding-right:10px;\">\n",
    "        <div><strong>Layers</strong></div>\n",
    "        {% for layer in this.layers %}\n",
    "        <div class=\"rendererOpt checkbox checkbox-primary\">\n",
    "            <input type=\"checkbox\" pd_refresh=\"map{{prefix}}\" pd_script=\"self.toggleLayer({{loop.index0}})\">\n",
    "            <label>{{layer[\"name\"]}}</label>\n",
    "        </div>      \n",
    "        {%endfor%}\n",
    "    </div>\n",
    "    <div class=\"form-group col-sm-10\">\n",
    "        <div id=\"map{{prefix}}\" pd_entity pd_options=\"{{this.formatOptions(this.mapJSONOptions)}}\"/>\n",
    "    </div>\n",
    "</div>\n",
    "\"\"\"\n",
    "    \n",
    "SFDashboard().run(incidents,runInDialog=\"false\")"
   ]
  },
  {
   "cell_type": "markdown",
   "metadata": {},
   "source": [
    "### Learn more about PixieDust\n",
    "If you'd like to learn more about other PixieDust features explore the [Welcome to PixieDust notebook](https://apsportal.ibm.com/exchange/public/entry/view/5b000ed5abda694232eb5be84c3dd7c1)."
   ]
  }
 ],
 "metadata": {
  "anaconda-cloud": {},
  "celltoolbar": "Edit Metadata",
  "kernelspec": {
   "display_name": "Python 3.5 with Spark 2.1",
   "language": "python",
   "name": "python3-spark21"
  },
  "language_info": {
   "codemirror_mode": {
    "name": "ipython",
    "version": 3
   },
   "file_extension": ".py",
   "mimetype": "text/x-python",
   "name": "python",
   "nbconvert_exporter": "python",
   "pygments_lexer": "ipython3",
   "version": "3.5.4"
  }
 },
 "nbformat": 4,
 "nbformat_minor": 1
}
